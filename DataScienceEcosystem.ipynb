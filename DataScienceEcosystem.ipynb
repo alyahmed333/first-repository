{
 "cells": [
  {
   "cell_type": "markdown",
   "id": "ae8856ad-f640-4496-96f6-8b188a82d621",
   "metadata": {},
   "source": [
    "# Data Science Tools and Ecosystem"
   ]
  },
  {
   "cell_type": "markdown",
   "id": "c8fef3d8-2add-40f0-b239-14eb837dde85",
   "metadata": {},
   "source": [
    "In this notebook, Data Science Tools and Ecosystem are summarized.\n"
   ]
  },
  {
   "cell_type": "markdown",
   "id": "7622b359-fa95-408c-acc9-5a5d07f1e426",
   "metadata": {},
   "source": [
    "Some of the popular languages that Data Scientists use are:\n",
    "1. Python\n",
    "2. R\n",
    "3. SQL"
   ]
  },
  {
   "cell_type": "markdown",
   "id": "b13bf779-9033-47e9-b99b-ea8bd99eba85",
   "metadata": {},
   "source": [
    "Some of the commonly used libraries used by Data Scientists include:\n",
    "\n",
    "1. NumPy\n",
    "2. Pandas\n",
    "3. Matplotlib\n",
    "4. Scikit-learn\n",
    "5. TensorFlow\n"
   ]
  },
  {
   "cell_type": "markdown",
   "id": "bca7c085-9796-4920-b88d-92fa3dc9fce4",
   "metadata": {},
   "source": [
    "|Data Science Tools|\n",
    "|-------------------|\n",
    "|Jupyter Notebook |\n",
    "|RStudio |\n",
    "|Apache Zeppelin |\n"
   ]
  },
  {
   "cell_type": "markdown",
   "id": "b3673927-f016-4953-bf71-31f4d7f680a9",
   "metadata": {},
   "source": [
    "### Below are a few examples of evaluating arithmetic expressions in Python.\n",
    "\n",
    "\n"
   ]
  },
  {
   "cell_type": "code",
   "execution_count": 16,
   "id": "d087a266-5dbc-47b2-9f00-e2decdea9a40",
   "metadata": {},
   "outputs": [
    {
     "data": {
      "text/plain": [
       "17"
      ]
     },
     "execution_count": 16,
     "metadata": {},
     "output_type": "execute_result"
    }
   ],
   "source": [
    "# This a simple arithmetic expression to mutiply then add integers\n",
    "\n",
    "(3*4)+5"
   ]
  },
  {
   "cell_type": "code",
   "execution_count": 20,
   "id": "f83ab12f-c318-4b40-8e74-586e9a724da5",
   "metadata": {},
   "outputs": [
    {
     "name": "stdout",
     "output_type": "stream",
     "text": [
      "3.3333333333333335\n"
     ]
    }
   ],
   "source": [
    "#  This will convert 200 minutes to hours by diving by 60\n",
    "\n",
    "hours = 200/60\n",
    "print(hours)"
   ]
  },
  {
   "cell_type": "markdown",
   "id": "be72f98e-44ad-4ac2-9b55-a96b4f0caa23",
   "metadata": {},
   "source": [
    "**Objectives:**\n",
    "\n",
    "- List popular languages for Data Science  \n",
    "- Identify commonly used Data Science libraries  \n",
    "- Explore open-source development tools for Data Science  \n",
    "- Perform basic arithmetic operations in Python  \n",
    "- Convert time units using Python expressions  \n"
   ]
  },
  {
   "cell_type": "markdown",
   "id": "627bd3f3-d29c-4a61-927c-6aee774fb570",
   "metadata": {},
   "source": [
    "## **Author** \n",
    "##  [Aly Abdulaaty]\n"
   ]
  },
  {
   "cell_type": "code",
   "execution_count": null,
   "id": "0ec8d791-59f9-4fc1-929c-7a2e0c6fb496",
   "metadata": {},
   "outputs": [],
   "source": []
  }
 ],
 "metadata": {
  "kernelspec": {
   "display_name": "Python 3 (ipykernel)",
   "language": "python",
   "name": "python3"
  },
  "language_info": {
   "codemirror_mode": {
    "name": "ipython",
    "version": 3
   },
   "file_extension": ".py",
   "mimetype": "text/x-python",
   "name": "python",
   "nbconvert_exporter": "python",
   "pygments_lexer": "ipython3",
   "version": "3.12.4"
  }
 },
 "nbformat": 4,
 "nbformat_minor": 5
}
